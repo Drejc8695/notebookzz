{
 "cells": [
  {
   "cell_type": "markdown",
   "metadata": {},
   "source": [
    "# Sile v ležajih - simbolično"
   ]
  },
  {
   "cell_type": "code",
   "execution_count": 1,
   "metadata": {},
   "outputs": [],
   "source": [
    "import sympy as sym\n",
    "import numpy as np\n",
    "import matplotlib.pyplot as plt\n",
    "plt.style.use('dark_background')\n",
    "%matplotlib inline"
   ]
  },
  {
   "cell_type": "code",
   "execution_count": 14,
   "metadata": {},
   "outputs": [],
   "source": [
    "rho = 3200. # density\n",
    "e = 0.0001 # excentricity\n",
    "a = 0.16\n",
    "b = 0.16\n",
    "\n",
    "t1 = 0.17\n",
    "R = 0.45\n",
    "g = 9.81\n",
    "alfa = 10.\n",
    "omega0 = 2024.2"
   ]
  },
  {
   "cell_type": "code",
   "execution_count": 15,
   "metadata": {},
   "outputs": [],
   "source": [
    "t = sym.symbols('t')"
   ]
  },
  {
   "cell_type": "code",
   "execution_count": 16,
   "metadata": {},
   "outputs": [],
   "source": [
    "J = lambda R, rho, t: np.pi*rho*R**4*t/2\n",
    "m = lambda R, rho, t: np.pi*R**2*t*rho"
   ]
  },
  {
   "cell_type": "code",
   "execution_count": 17,
   "metadata": {},
   "outputs": [],
   "source": [
    "phi = lambda t: omega0*t + alfa*t**2/2"
   ]
  },
  {
   "cell_type": "code",
   "execution_count": 18,
   "metadata": {},
   "outputs": [],
   "source": [
    "Fc = lambda t: m(R, rho, t1)*e*sym.diff(phi(t), t)**2\n",
    "Ft = lambda t: m(R, rho, t1)*e*sym.diff(phi(t), t, t)\n",
    "Jxz = m(R, rho, t1)*a*e\n",
    "Jyz = 0"
   ]
  },
  {
   "cell_type": "code",
   "execution_count": 8,
   "metadata": {},
   "outputs": [],
   "source": [
    "Ax, Ay, Bx, By = sym.symbols('Ax Ay Bx By')"
   ]
  },
  {
   "cell_type": "code",
   "execution_count": 9,
   "metadata": {},
   "outputs": [
    {
     "data": {
      "text/plain": [
       "{Ax: -1.73038923359726*t**2 - 700.530777329515*t - 70900.7199735202,\n",
       " Ay: 0.173038923359726,\n",
       " Bx: -1.73038923359726*t**2 - 700.530777329515*t - 70900.7199735202,\n",
       " By: 0.173038923359726}"
      ]
     },
     "execution_count": 9,
     "metadata": {},
     "output_type": "execute_result"
    }
   ],
   "source": [
    "res = sym.solve([Ax + Bx + Fc(t),\n",
    "           Ay + By - Ft(t),\n",
    "           -By*(a + b) + Jxz*sym.diff(phi(t),t,t) - Jyz*sym.diff(phi(t),t)**2,\n",
    "           Bx*(a + b) + Jxz*sym.diff(phi(t),t)**2 + Jyz*sym.diff(phi(t),t,t)],\n",
    "          [Ax, Ay, Bx, By])\n",
    "res"
   ]
  },
  {
   "cell_type": "code",
   "execution_count": 10,
   "metadata": {},
   "outputs": [],
   "source": [
    "Ax1, Ay1, Bx1, By1 = list(res.values())"
   ]
  },
  {
   "cell_type": "code",
   "execution_count": 11,
   "metadata": {},
   "outputs": [],
   "source": [
    "Ax = 1/2*m(R, rho, t1)*g + Ax1*sym.cos(phi(t)) - Ay1*sym.sin(phi(t))\n",
    "Ay = Ax1*sym.sin(phi(t)) + Ay1*sym.cos(phi(t))\n",
    "Bx = 1/2*m(R, rho, t1)*g + Bx1*sym.cos(phi(t)) - By1*sym.sin(phi(t))\n",
    "By = Bx1*sym.sin(phi(t)) + By1*sym.cos(phi(t))\n",
    "Ax, Ay, Bx, By = sym.lambdify(t, Ax), sym.lambdify(t, Ay), sym.lambdify(t, Bx), sym.lambdify(t, By)"
   ]
  },
  {
   "cell_type": "code",
   "execution_count": 13,
   "metadata": {},
   "outputs": [
    {
     "data": {
      "text/plain": [
       "(0, 0.008299575140796364)"
      ]
     },
     "execution_count": 13,
     "metadata": {},
     "output_type": "execute_result"
    },
    {
     "data": {
      "image/png": "[encoded data removed]",
      "text/plain": [
       "<Figure size 432x288 with 1 Axes>"
      ]
     },
     "metadata": {
      "needs_background": "dark"
     },
     "output_type": "display_data"
    }
   ],
   "source": [
    "t0 = 16*1/omega0\n",
    "time = np.linspace(0, t0, 1000)\n",
    "plt.plot(time, Ax(time))\n",
    "plt.xlim(left=0)"
   ]
  }
 ],
 "metadata": {
  "kernelspec": {
   "display_name": "Python 3",
   "language": "python",
   "name": "python3"
  },
  "language_info": {
   "codemirror_mode": {
    "name": "ipython",
    "version": 3
   },
   "file_extension": ".py",
   "mimetype": "text/x-python",
   "name": "python",
   "nbconvert_exporter": "python",
   "pygments_lexer": "ipython3",
   "version": "3.7.5"
  }
 },
 "nbformat": 4,
 "nbformat_minor": 4
}
